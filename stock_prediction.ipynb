{
 "cells": [
  {
   "cell_type": "code",
   "execution_count": 35,
   "id": "6058f0d6",
   "metadata": {},
   "outputs": [
    {
     "name": "stdout",
     "output_type": "stream",
     "text": [
      "2.20.0\n"
     ]
    }
   ],
   "source": [
    "import tensorflow as tf\n",
    "print(tf.__version__)"
   ]
  },
  {
   "cell_type": "code",
   "execution_count": 36,
   "id": "b557b7cf",
   "metadata": {},
   "outputs": [],
   "source": [
    "##importing necessary libraries\n",
    "import numpy as np\n",
    "import pandas as pd \n",
    "import yfinance as yf\n",
    "import matplotlib.pyplot as plt \n",
    "import tensorflow as tf \n",
    "from tensorflow.keras.models import Sequential, Model\n",
    "from tensorflow.keras.layers import LSTM,Dense,Dropout\n",
    "from sklearn.preprocessing import MinMaxScaler\n",
    "import datetime\n",
    "\n"
   ]
  },
  {
   "cell_type": "code",
   "execution_count": 37,
   "id": "e873a03a",
   "metadata": {},
   "outputs": [
    {
     "name": "stderr",
     "output_type": "stream",
     "text": [
      "C:\\Users\\mbugh\\AppData\\Local\\Temp\\ipykernel_24072\\1155894336.py:5: FutureWarning: YF.download() has changed argument auto_adjust default to True\n",
      "  data = yf.download(ticker, start=\"2020-01-01\", end=datetime.datetime.today().strftime(\"%Y-%m-%d\"))\n",
      "[*********************100%***********************]  1 of 1 completed\n"
     ]
    }
   ],
   "source": [
    "#step 1:downloading stock data\n",
    "ticker='AAPL'\n",
    "\n",
    "#downloading historical data from yahoofinance\n",
    "data = yf.download(ticker, start=\"2020-01-01\", end=datetime.datetime.today().strftime(\"%Y-%m-%d\"))\n",
    "data=data[['Close']]"
   ]
  },
  {
   "cell_type": "code",
   "execution_count": 38,
   "id": "b8e74ccb",
   "metadata": {},
   "outputs": [],
   "source": [
    "#step2;preprocess the data\n",
    "#initialize minmaxscaller to normalize data btn 0 and 1 \n",
    "#Scale the data for training\n",
    "scaler=MinMaxScaler(feature_range=(0,1))\n",
    "scaled_data=scaler.fit_transform(data)"
   ]
  },
  {
   "cell_type": "code",
   "execution_count": 39,
   "id": "e4ca1a87",
   "metadata": {},
   "outputs": [],
   "source": [
    "##CREATING FEATURES AND TARGETS\n",
    "#defining training data length as 80%\n",
    "training_data_len = int(len(scaled_data) * 0.8)\n",
    "#split the training adata into training set\n",
    "train_data = scaled_data[0:int(training_data_len), :]\n",
    "\n",
    "\n",
    "\n",
    "\n"
   ]
  },
  {
   "cell_type": "code",
   "execution_count": 40,
   "id": "17967296",
   "metadata": {},
   "outputs": [],
   "source": [
    "#xtrain and ytrain\n",
    "x_train=[]\n",
    "y_train=[]\n",
    "for i in range(60, len(train_data)):\n",
    "    x_train.append(train_data[i-60:i, 0])  # 60 previous values\n",
    "    y_train.append(train_data[i, 0])       # next value\n"
   ]
  },
  {
   "cell_type": "code",
   "execution_count": 41,
   "id": "c5ed43fa",
   "metadata": {},
   "outputs": [],
   "source": [
    "#convert list to numpy array for model training\n",
    "x_train,y_train=np.array(x_train),np.array(y_train)"
   ]
  },
  {
   "cell_type": "code",
   "execution_count": 42,
   "id": "14612ce4",
   "metadata": {},
   "outputs": [],
   "source": [
    "x_train=np.reshape(x_train,(x_train.shape[0],x_train.shape[1],1))"
   ]
  },
  {
   "cell_type": "code",
   "execution_count": 43,
   "id": "bdcb740a",
   "metadata": {},
   "outputs": [],
   "source": [
    "#BUILD lstm model\n",
    "model=Sequential()"
   ]
  },
  {
   "cell_type": "code",
   "execution_count": 44,
   "id": "4d5f9c1b",
   "metadata": {},
   "outputs": [
    {
     "name": "stderr",
     "output_type": "stream",
     "text": [
      "c:\\Users\\mbugh\\AI_ML\\tf_env\\lib\\site-packages\\keras\\src\\layers\\rnn\\rnn.py:199: UserWarning: Do not pass an `input_shape`/`input_dim` argument to a layer. When using Sequential models, prefer using an `Input(shape)` object as the first layer in the model instead.\n",
      "  super().__init__(**kwargs)\n"
     ]
    }
   ],
   "source": [
    "#first LSTM layer with 50units and return sequences\n",
    "model.add(LSTM(units=50,return_sequences=True,input_shape=(x_train.shape[1],1)))\n",
    "model.add(Dropout(0.2))##droping layer to prevent overfitting\n"
   ]
  },
  {
   "cell_type": "code",
   "execution_count": 45,
   "id": "b03bc2aa",
   "metadata": {},
   "outputs": [],
   "source": [
    "#second layer\n",
    "model.add(LSTM(units=50,return_sequences=False))\n",
    "model.add(Dropout(0.2))#dropout to prevent overfitting\n"
   ]
  },
  {
   "cell_type": "code",
   "execution_count": 46,
   "id": "d0eaca98",
   "metadata": {},
   "outputs": [],
   "source": [
    "#dense layer with 25units\n",
    "model.add(Dense(units=25))"
   ]
  },
  {
   "cell_type": "code",
   "execution_count": 47,
   "id": "2eb3d82c",
   "metadata": {},
   "outputs": [],
   "source": [
    "#output layer with 2 unit\n",
    "model.add(Dense(units=1))"
   ]
  },
  {
   "cell_type": "code",
   "execution_count": 48,
   "id": "b285aee3",
   "metadata": {},
   "outputs": [],
   "source": [
    "# compile the model using \"Adam\" optimizer and mean squared error loss\n",
    "model.compile(optimizer=\"adam\", loss=\"mean_squared_error\")\n",
    "\n"
   ]
  },
  {
   "cell_type": "code",
   "execution_count": 49,
   "id": "0f7d345b",
   "metadata": {},
   "outputs": [
    {
     "name": "stdout",
     "output_type": "stream",
     "text": [
      "\u001b[1m1082/1082\u001b[0m \u001b[32m━━━━━━━━━━━━━━━━━━━━\u001b[0m\u001b[37m\u001b[0m \u001b[1m28s\u001b[0m 22ms/step - loss: 0.0050\n"
     ]
    },
    {
     "data": {
      "text/plain": [
       "<keras.src.callbacks.history.History at 0x1c3ff337460>"
      ]
     },
     "execution_count": 49,
     "metadata": {},
     "output_type": "execute_result"
    }
   ],
   "source": [
    "#step5 :train the model with batch size of 1 and 1 epoch\n",
    "model.fit(x_train, y_train, batch_size=1, epochs=1)\n"
   ]
  },
  {
   "cell_type": "code",
   "execution_count": 50,
   "id": "64670a63",
   "metadata": {},
   "outputs": [],
   "source": [
    "#step  6 preparing data for 30days forecast\n",
    "#taking the last 60dags for the dataset for generating future predictios\n",
    "last_60_days=scaled_data[-60:]\n"
   ]
  },
  {
   "cell_type": "code",
   "execution_count": 51,
   "id": "9a783cfd",
   "metadata": {},
   "outputs": [],
   "source": [
    "#reshape the model input shape (1 sample,60timesteps,1feature)\n",
    "x_future=last_60_days.reshape(1,last_60_days.shape[0],1)"
   ]
  },
  {
   "cell_type": "code",
   "execution_count": 52,
   "id": "4b48dc54",
   "metadata": {},
   "outputs": [
    {
     "name": "stdout",
     "output_type": "stream",
     "text": [
      "\u001b[1m1/1\u001b[0m \u001b[32m━━━━━━━━━━━━━━━━━━━━\u001b[0m\u001b[37m\u001b[0m \u001b[1m0s\u001b[0m 433ms/step\n",
      "\u001b[1m1/1\u001b[0m \u001b[32m━━━━━━━━━━━━━━━━━━━━\u001b[0m\u001b[37m\u001b[0m \u001b[1m0s\u001b[0m 68ms/step\n",
      "\u001b[1m1/1\u001b[0m \u001b[32m━━━━━━━━━━━━━━━━━━━━\u001b[0m\u001b[37m\u001b[0m \u001b[1m0s\u001b[0m 72ms/step\n",
      "\u001b[1m1/1\u001b[0m \u001b[32m━━━━━━━━━━━━━━━━━━━━\u001b[0m\u001b[37m\u001b[0m \u001b[1m0s\u001b[0m 66ms/step\n",
      "\u001b[1m1/1\u001b[0m \u001b[32m━━━━━━━━━━━━━━━━━━━━\u001b[0m\u001b[37m\u001b[0m \u001b[1m0s\u001b[0m 63ms/step\n",
      "\u001b[1m1/1\u001b[0m \u001b[32m━━━━━━━━━━━━━━━━━━━━\u001b[0m\u001b[37m\u001b[0m \u001b[1m0s\u001b[0m 66ms/step\n",
      "\u001b[1m1/1\u001b[0m \u001b[32m━━━━━━━━━━━━━━━━━━━━\u001b[0m\u001b[37m\u001b[0m \u001b[1m0s\u001b[0m 70ms/step\n",
      "\u001b[1m1/1\u001b[0m \u001b[32m━━━━━━━━━━━━━━━━━━━━\u001b[0m\u001b[37m\u001b[0m \u001b[1m0s\u001b[0m 65ms/step\n",
      "\u001b[1m1/1\u001b[0m \u001b[32m━━━━━━━━━━━━━━━━━━━━\u001b[0m\u001b[37m\u001b[0m \u001b[1m0s\u001b[0m 66ms/step\n",
      "\u001b[1m1/1\u001b[0m \u001b[32m━━━━━━━━━━━━━━━━━━━━\u001b[0m\u001b[37m\u001b[0m \u001b[1m0s\u001b[0m 69ms/step\n",
      "\u001b[1m1/1\u001b[0m \u001b[32m━━━━━━━━━━━━━━━━━━━━\u001b[0m\u001b[37m\u001b[0m \u001b[1m0s\u001b[0m 71ms/step\n",
      "\u001b[1m1/1\u001b[0m \u001b[32m━━━━━━━━━━━━━━━━━━━━\u001b[0m\u001b[37m\u001b[0m \u001b[1m0s\u001b[0m 67ms/step\n",
      "\u001b[1m1/1\u001b[0m \u001b[32m━━━━━━━━━━━━━━━━━━━━\u001b[0m\u001b[37m\u001b[0m \u001b[1m0s\u001b[0m 69ms/step\n",
      "\u001b[1m1/1\u001b[0m \u001b[32m━━━━━━━━━━━━━━━━━━━━\u001b[0m\u001b[37m\u001b[0m \u001b[1m0s\u001b[0m 64ms/step\n",
      "\u001b[1m1/1\u001b[0m \u001b[32m━━━━━━━━━━━━━━━━━━━━\u001b[0m\u001b[37m\u001b[0m \u001b[1m0s\u001b[0m 65ms/step\n",
      "\u001b[1m1/1\u001b[0m \u001b[32m━━━━━━━━━━━━━━━━━━━━\u001b[0m\u001b[37m\u001b[0m \u001b[1m0s\u001b[0m 64ms/step\n",
      "\u001b[1m1/1\u001b[0m \u001b[32m━━━━━━━━━━━━━━━━━━━━\u001b[0m\u001b[37m\u001b[0m \u001b[1m0s\u001b[0m 64ms/step\n",
      "\u001b[1m1/1\u001b[0m \u001b[32m━━━━━━━━━━━━━━━━━━━━\u001b[0m\u001b[37m\u001b[0m \u001b[1m0s\u001b[0m 68ms/step\n",
      "\u001b[1m1/1\u001b[0m \u001b[32m━━━━━━━━━━━━━━━━━━━━\u001b[0m\u001b[37m\u001b[0m \u001b[1m0s\u001b[0m 68ms/step\n",
      "\u001b[1m1/1\u001b[0m \u001b[32m━━━━━━━━━━━━━━━━━━━━\u001b[0m\u001b[37m\u001b[0m \u001b[1m0s\u001b[0m 71ms/step\n",
      "\u001b[1m1/1\u001b[0m \u001b[32m━━━━━━━━━━━━━━━━━━━━\u001b[0m\u001b[37m\u001b[0m \u001b[1m0s\u001b[0m 66ms/step\n",
      "\u001b[1m1/1\u001b[0m \u001b[32m━━━━━━━━━━━━━━━━━━━━\u001b[0m\u001b[37m\u001b[0m \u001b[1m0s\u001b[0m 69ms/step\n",
      "\u001b[1m1/1\u001b[0m \u001b[32m━━━━━━━━━━━━━━━━━━━━\u001b[0m\u001b[37m\u001b[0m \u001b[1m0s\u001b[0m 63ms/step\n",
      "\u001b[1m1/1\u001b[0m \u001b[32m━━━━━━━━━━━━━━━━━━━━\u001b[0m\u001b[37m\u001b[0m \u001b[1m0s\u001b[0m 63ms/step\n",
      "\u001b[1m1/1\u001b[0m \u001b[32m━━━━━━━━━━━━━━━━━━━━\u001b[0m\u001b[37m\u001b[0m \u001b[1m0s\u001b[0m 69ms/step\n",
      "\u001b[1m1/1\u001b[0m \u001b[32m━━━━━━━━━━━━━━━━━━━━\u001b[0m\u001b[37m\u001b[0m \u001b[1m0s\u001b[0m 67ms/step\n",
      "\u001b[1m1/1\u001b[0m \u001b[32m━━━━━━━━━━━━━━━━━━━━\u001b[0m\u001b[37m\u001b[0m \u001b[1m0s\u001b[0m 67ms/step\n",
      "\u001b[1m1/1\u001b[0m \u001b[32m━━━━━━━━━━━━━━━━━━━━\u001b[0m\u001b[37m\u001b[0m \u001b[1m0s\u001b[0m 66ms/step\n",
      "\u001b[1m1/1\u001b[0m \u001b[32m━━━━━━━━━━━━━━━━━━━━\u001b[0m\u001b[37m\u001b[0m \u001b[1m0s\u001b[0m 68ms/step\n",
      "\u001b[1m1/1\u001b[0m \u001b[32m━━━━━━━━━━━━━━━━━━━━\u001b[0m\u001b[37m\u001b[0m \u001b[1m0s\u001b[0m 93ms/step\n",
      "Predicted stock prices for next 30 days:\n",
      "[[245.4796 ]\n",
      " [246.88792]\n",
      " [248.49232]\n",
      " [250.21819]\n",
      " [252.01573]\n",
      " [253.85245]\n",
      " [255.70755]\n",
      " [257.5676 ]\n",
      " [259.42395]\n",
      " [261.2712 ]\n",
      " [263.10577]\n",
      " [264.92548]\n",
      " [266.7287 ]\n",
      " [268.51447]\n",
      " [270.28195]\n",
      " [272.0306 ]\n",
      " [273.75992]\n",
      " [275.4695 ]\n",
      " [277.1589 ]\n",
      " [278.82782]\n",
      " [280.47592]\n",
      " [282.1028 ]\n",
      " [283.7083 ]\n",
      " [285.29205]\n",
      " [286.8539 ]\n",
      " [288.39355]\n",
      " [289.91086]\n",
      " [291.40555]\n",
      " [292.87756]\n",
      " [294.32672]]\n"
     ]
    }
   ],
   "source": [
    "# Step 7 predicting next 30 days\n",
    "future_predictions = []\n",
    "for _ in range(30):\n",
    "    pred = model.predict(x_future)\n",
    "    future_predictions.append(pred[0,0])  # add prediction to the list\n",
    "    \n",
    "    # update x_future with the new prediction\n",
    "    x_future = np.append(x_future[:,1:,:], [[pred[0]]], axis=1)\n",
    "\n",
    "# Convert to array\n",
    "future_predictions = np.array(future_predictions).reshape(-1, 1)\n",
    "\n",
    "# Convert back to original stock price scale\n",
    "future_predictions = scaler.inverse_transform(future_predictions)\n",
    "\n",
    "print(\"Predicted stock prices for next 30 days:\")\n",
    "print(future_predictions)\n",
    "\n"
   ]
  },
  {
   "cell_type": "code",
   "execution_count": null,
   "id": "b2b1bb24",
   "metadata": {},
   "outputs": [
    {
     "data": {
      "image/png": "[encoded data removed]",
      "text/plain": [
       "<Figure size 1200x600 with 1 Axes>"
      ]
     },
     "metadata": {},
     "output_type": "display_data"
    }
   ],
   "source": [
    "# Create future dates starting after the last available date in your dataset\n",
    "forecast_dates = pd.date_range(\n",
    "    start=data.index[-1] + pd.Timedelta(days=1),\n",
    "    periods=30,\n",
    "    freq='B'   # Business days only\n",
    ")\n",
    "\n",
    "# Put predictions into a DataFrame\n",
    "forecast = pd.DataFrame(future_predictions, index=forecast_dates, columns=['Predicted Price'])\n",
    "\n",
    "# Plot historical stock prices\n",
    "plt.figure(figsize=(12,6))\n",
    "plt.plot(data['Close'], label='Historical Prices', color='blue')\n",
    "\n",
    "# Plot predicted prices\n",
    "plt.plot(forecast, label='Future Predictions (30 days)', color='red', linestyle='dashed')\n",
    "\n",
    "# Add labels and legend\n",
    "plt.title(f\"{ticker} Stock Price Prediction\")\n",
    "plt.xlabel(\"Date\")\n",
    "plt.ylabel(\"Price (USD)\")\n",
    "plt.legend()\n",
    "plt.grid(True)\n",
    "\n",
    "# saving plot data\n",
    "plt.savefig(\"plot.png\", bbox_inches=\"tight\", dpi=150)  # Save plot\n",
    "plt.show()  # Show plot\n"
   ]
  },
  {
   "cell_type": "code",
   "execution_count": null,
   "id": "32b5cb78",
   "metadata": {},
   "outputs": [],
   "source": [
    "\n"
   ]
  },
  {
   "cell_type": "code",
   "execution_count": null,
   "id": "c7170f67",
   "metadata": {},
   "outputs": [],
   "source": []
  }
 ],
 "metadata": {
  "kernelspec": {
   "display_name": "tf_env",
   "language": "python",
   "name": "python3"
  },
  "language_info": {
   "codemirror_mode": {
    "name": "ipython",
    "version": 3
   },
   "file_extension": ".py",
   "mimetype": "text/x-python",
   "name": "python",
   "nbconvert_exporter": "python",
   "pygments_lexer": "ipython3",
   "version": "3.10.0"
  }
 },
 "nbformat": 4,
 "nbformat_minor": 5
}
